{
 "cells": [
  {
   "cell_type": "markdown",
   "metadata": {},
   "source": [
    "<div class=\"alert alert-success\">\n",
    "    <b>Author</b>:\n",
    "\n",
    "      Rashik Rahman\n",
    "      17201012@uap-bd.edu\n",
    "\n",
    "</div>\n",
    "\n",
    "# [Click here to see class lecture](https://photos.app.goo.gl/jwkcj4t3afHXrAJy7)"
   ]
  },
  {
   "cell_type": "markdown",
   "metadata": {},
   "source": [
    "**Review**\n",
    "\n",
    "Host ( Client, Router, Server)\n",
    "\n",
    "IP address : Network Part + Host Part\n",
    "\n",
    "\n",
    "\n",
    "- Class A : N.H.H.H<br>\n",
    "network : 8 bit (cause there's only one N and each is an octet)<br>\n",
    "host : 24 bit (cause there's three host and each is an octet)<br>\n",
    "no. of hosts that can connect : $2^{24}-2\\approx16million$<br>\n",
    "First octet : (1~127)\n",
    "<br><br>\n",
    "- Class B : N.N.H.H<br>\n",
    "network : 16 bit (cause there's two N and each is an octet)<br>\n",
    "host : 16 bit (cause there's two host and each is an octet)<br>\n",
    "no. of hosts that can connect : $2^{16}-2 = 65534$<br>\n",
    "First octet : (128~191)\n",
    "<br><br>\n",
    "- Class C : N.N.N.H<br>\n",
    "network : 24 1bit (cause there's three N and each is an octet)<br>\n",
    "host : 8 bit (cause there's only one host and each is an octet)<br>\n",
    "no. of hosts that can connect : $2^{8}-2 = 254$<br>\n",
    "First octet : (192~223)"
   ]
  },
  {
   "cell_type": "markdown",
   "metadata": {},
   "source": [
    "` What if we want to connect more than 254 hosts? Then we'll use class B.`\n",
    "\n",
    "**University of Asia Pacific**\n",
    "\n",
    "No. of host per dept.\n",
    "\n",
    "1. CSE = 2000\n",
    "2. CE = 1500\n",
    "3. EEE = 1000\n",
    "4. PHARMA = 1200\n",
    "\n",
    "So in total we have to connect `5700 hosts`. So we can't choose class C cause it'll take us +-8 networks to connect all the hosts. But if we choose class B then we can connect all hosts using a single network. This saves us the cost of buying 8(minimum) routers if used class C. That's why we choose class B network."
   ]
  },
  {
   "cell_type": "markdown",
   "metadata": {},
   "source": []
  },
  {
   "cell_type": "markdown",
   "metadata": {},
   "source": []
  },
  {
   "cell_type": "markdown",
   "metadata": {},
   "source": []
  },
  {
   "cell_type": "markdown",
   "metadata": {},
   "source": []
  },
  {
   "cell_type": "markdown",
   "metadata": {},
   "source": []
  },
  {
   "cell_type": "markdown",
   "metadata": {},
   "source": []
  },
  {
   "cell_type": "markdown",
   "metadata": {},
   "source": []
  },
  {
   "cell_type": "markdown",
   "metadata": {},
   "source": []
  }
 ],
 "metadata": {
  "kernelspec": {
   "display_name": "Python 3",
   "language": "python",
   "name": "python3"
  },
  "language_info": {
   "codemirror_mode": {
    "name": "ipython",
    "version": 3
   },
   "file_extension": ".py",
   "mimetype": "text/x-python",
   "name": "python",
   "nbconvert_exporter": "python",
   "pygments_lexer": "ipython3",
   "version": "3.7.6"
  }
 },
 "nbformat": 4,
 "nbformat_minor": 4
}
